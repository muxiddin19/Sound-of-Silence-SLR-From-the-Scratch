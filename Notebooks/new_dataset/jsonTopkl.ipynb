{
 "cells": [
  {
   "cell_type": "code",
   "execution_count": null,
   "metadata": {},
   "outputs": [
    {
     "name": "stdout",
     "output_type": "stream",
     "text": [
      "Restructured dataset saved to: /nas/Chingiz/sing_language/newDATA_points/restructured_by_parts.pkl\n"
     ]
    }
   ],
   "source": [
    "import os\n",
    "import json\n",
    "import zipfile\n",
    "import pickle\n",
    "import numpy as np\n",
    "from tempfile import TemporaryDirectory\n",
    "\n",
    "def process_json_from_zip(zip_path, output_path, nested_folder=None):\n",
    "    \"\"\"\n",
    "    Process JSON files within a ZIP archive to restructure the data by parts.\n",
    "\n",
    "    Parameters:\n",
    "        zip_path (str): Path to the ZIP file containing JSON files.\n",
    "        output_path (str): Path to save the restructured dataset (pickle file).\n",
    "        nested_folder (str): Optional. Path inside the ZIP to focus on (e.g., '01_crowd_keypoint/01/NIA_SL_FS0001_CROWD01_F/').\n",
    "    \"\"\"\n",
    "    all_frames = {\n",
    "        'pose': [],\n",
    "        'face': [],\n",
    "        'hand_left': [],\n",
    "        'hand_right': []\n",
    "    }\n",
    "\n",
    "    # Create a temporary directory to extract files\n",
    "    with TemporaryDirectory() as temp_dir:\n",
    "        # Extract all files from the ZIP archive\n",
    "        with zipfile.ZipFile(zip_path, 'r') as zip_ref:\n",
    "            zip_ref.extractall(temp_dir)\n",
    "        \n",
    "        # Determine the directory to process\n",
    "        target_dir = os.path.join(temp_dir, nested_folder) if nested_folder else temp_dir\n",
    "\n",
    "        # Get all JSON files in the target directory\n",
    "        json_files = [os.path.join(target_dir, f) for f in os.listdir(target_dir) if f.endswith('.json')]\n",
    "\n",
    "        # Sort files to maintain order\n",
    "        json_files.sort()\n",
    "\n",
    "        for json_file in json_files:\n",
    "            # Load JSON data\n",
    "            with open(json_file, 'r') as f:\n",
    "                data = json.load(f)\n",
    "\n",
    "            # Extract key points\n",
    "            pose = np.array(data['people']['pose_keypoints_2d']).reshape(-1, 3)\n",
    "            face = np.array(data['people']['face_keypoints_2d']).reshape(-1, 3)\n",
    "            hand_left = np.array(data['people']['hand_left_keypoints_2d']).reshape(-1, 3)\n",
    "            hand_right = np.array(data['people']['hand_right_keypoints_2d']).reshape(-1, 3)\n",
    "\n",
    "            # Append each part to the corresponding list\n",
    "            all_frames['pose'].append(pose)\n",
    "            all_frames['face'].append(face)\n",
    "            all_frames['hand_left'].append(hand_left)\n",
    "            all_frames['hand_right'].append(hand_right)\n",
    "\n",
    "    # Convert lists to numpy arrays\n",
    "    for part in all_frames:\n",
    "        all_frames[part] = np.stack(all_frames[part], axis=0)  # (frames, keypoints, 3)\n",
    "\n",
    "    # Save as pickle\n",
    "    with open(output_path, 'wb') as f:\n",
    "        pickle.dump(all_frames, f)\n",
    "\n",
    "    print(f\"Restructured dataset saved to: {output_path}\")\n",
    "\n",
    "\n",
    "# Example usage\n",
    "zip_file_path = r\"/nas/Dataset/수어 영상/1.Training/[라벨]01_crowd_keypoint.zip\"\n",
    "nested_folder = \"01_crowd_keypoint/01/NIA_SL_FS0001_CROWD01_F\"  # Optional: Focus on this folder\n",
    "output_pickle = \"/nas/Chingiz/sing_language/newDATA_points/restructured_by_parts_NIA_SL_FS0001_CROWD01_F.pkl\"\n",
    "\n",
    "process_json_from_zip(zip_file_path, output_pickle, nested_folder)\n"
   ]
  }
 ],
 "metadata": {
  "kernelspec": {
   "display_name": "yolov8-env",
   "language": "python",
   "name": "python3"
  },
  "language_info": {
   "codemirror_mode": {
    "name": "ipython",
    "version": 3
   },
   "file_extension": ".py",
   "mimetype": "text/x-python",
   "name": "python",
   "nbconvert_exporter": "python",
   "pygments_lexer": "ipython3",
   "version": "3.8.19"
  }
 },
 "nbformat": 4,
 "nbformat_minor": 2
}
