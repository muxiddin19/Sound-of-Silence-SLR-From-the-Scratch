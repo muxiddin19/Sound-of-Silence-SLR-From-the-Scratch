{
 "cells": [
  {
   "cell_type": "code",
   "execution_count": 7,
   "metadata": {},
   "outputs": [
    {
     "name": "stdout",
     "output_type": "stream",
     "text": [
      "[{'name': 'fullFrame-210x260px/train/01April_2010_Thursday_heute_default-2/1/01April_2010_Thursday_heute', 'num_frames': 116, 'folder': '01April_2010_Thursday_heute_default-2/1/*.png', 'signer': 'Signer04', 'gloss': 'loc-WEST WARM loc-WEST BLEIBEN KUEHL'}]\n"
     ]
    }
   ],
   "source": [
    "import gzip\n",
    "import pickle\n",
    "\n",
    "anno_path = r\"/nas/Dataset/Phoenix/phoenix-2014.train\"\n",
    "\n",
    "# Open the gzipped pickle file in binary mode\n",
    "with gzip.open(anno_path, 'rb') as f:\n",
    "    annotations = pickle.load(f)\n",
    "\n",
    "print(annotations[1:2])\n",
    "\n",
    "\n",
    "\n"
   ]
  },
  {
   "cell_type": "code",
   "execution_count": null,
   "metadata": {},
   "outputs": [],
   "source": []
  }
 ],
 "metadata": {
  "kernelspec": {
   "display_name": "yolov8-env",
   "language": "python",
   "name": "python3"
  },
  "language_info": {
   "codemirror_mode": {
    "name": "ipython",
    "version": 3
   },
   "file_extension": ".py",
   "mimetype": "text/x-python",
   "name": "python",
   "nbconvert_exporter": "python",
   "pygments_lexer": "ipython3",
   "version": "3.8.19"
  }
 },
 "nbformat": 4,
 "nbformat_minor": 2
}
