{
 "cells": [
  {
   "cell_type": "code",
   "execution_count": 1,
   "metadata": {},
   "outputs": [
    {
     "ename": "NameError",
     "evalue": "name 'cv2' is not defined",
     "output_type": "error",
     "traceback": [
      "\u001b[0;31m---------------------------------------------------------------------------\u001b[0m",
      "\u001b[0;31mNameError\u001b[0m                                 Traceback (most recent call last)",
      "\u001b[0;32m<ipython-input-1-426d6a63b3e7>\u001b[0m in \u001b[0;36m<module>\u001b[0;34m\u001b[0m\n\u001b[1;32m     37\u001b[0m \u001b[0;34m\u001b[0m\u001b[0m\n\u001b[1;32m     38\u001b[0m \u001b[0;32mfor\u001b[0m \u001b[0mi\u001b[0m \u001b[0;32min\u001b[0m \u001b[0mrange\u001b[0m\u001b[0;34m(\u001b[0m\u001b[0;36m4\u001b[0m\u001b[0;34m)\u001b[0m\u001b[0;34m:\u001b[0m  \u001b[0;31m# Generate 4 high-resolution images\u001b[0m\u001b[0;34m\u001b[0m\u001b[0;34m\u001b[0m\u001b[0m\n\u001b[0;32m---> 39\u001b[0;31m     \u001b[0mhand_image\u001b[0m \u001b[0;34m=\u001b[0m \u001b[0mcreate_high_res_hand_image\u001b[0m\u001b[0;34m(\u001b[0m\u001b[0mimage_size\u001b[0m\u001b[0;34m=\u001b[0m\u001b[0;34m(\u001b[0m\u001b[0;36m300\u001b[0m\u001b[0;34m,\u001b[0m \u001b[0;36m300\u001b[0m\u001b[0;34m)\u001b[0m\u001b[0;34m)\u001b[0m\u001b[0;34m\u001b[0m\u001b[0;34m\u001b[0m\u001b[0m\n\u001b[0m\u001b[1;32m     40\u001b[0m     \u001b[0mkeypoints\u001b[0m \u001b[0;34m=\u001b[0m \u001b[0mgenerate_hand_keypoints\u001b[0m\u001b[0;34m(\u001b[0m\u001b[0;34m)\u001b[0m\u001b[0;34m\u001b[0m\u001b[0;34m\u001b[0m\u001b[0m\n\u001b[1;32m     41\u001b[0m \u001b[0;34m\u001b[0m\u001b[0m\n",
      "\u001b[0;32m<ipython-input-1-426d6a63b3e7>\u001b[0m in \u001b[0;36mcreate_high_res_hand_image\u001b[0;34m(image_size)\u001b[0m\n\u001b[1;32m     11\u001b[0m     \u001b[0mpalm_start\u001b[0m \u001b[0;34m=\u001b[0m \u001b[0;34m(\u001b[0m\u001b[0;36m100\u001b[0m\u001b[0;34m,\u001b[0m \u001b[0;36m150\u001b[0m\u001b[0;34m)\u001b[0m\u001b[0;34m\u001b[0m\u001b[0;34m\u001b[0m\u001b[0m\n\u001b[1;32m     12\u001b[0m     \u001b[0mpalm_end\u001b[0m \u001b[0;34m=\u001b[0m \u001b[0;34m(\u001b[0m\u001b[0;36m200\u001b[0m\u001b[0;34m,\u001b[0m \u001b[0;36m250\u001b[0m\u001b[0;34m)\u001b[0m\u001b[0;34m\u001b[0m\u001b[0;34m\u001b[0m\u001b[0m\n\u001b[0;32m---> 13\u001b[0;31m     \u001b[0mcv2\u001b[0m\u001b[0;34m.\u001b[0m\u001b[0mrectangle\u001b[0m\u001b[0;34m(\u001b[0m\u001b[0mimage\u001b[0m\u001b[0;34m,\u001b[0m \u001b[0mpalm_start\u001b[0m\u001b[0;34m,\u001b[0m \u001b[0mpalm_end\u001b[0m\u001b[0;34m,\u001b[0m \u001b[0;34m(\u001b[0m\u001b[0;36m200\u001b[0m\u001b[0;34m,\u001b[0m \u001b[0;36m150\u001b[0m\u001b[0;34m,\u001b[0m \u001b[0;36m100\u001b[0m\u001b[0;34m)\u001b[0m\u001b[0;34m,\u001b[0m \u001b[0;34m-\u001b[0m\u001b[0;36m1\u001b[0m\u001b[0;34m)\u001b[0m  \u001b[0;31m# Brown color for palm\u001b[0m\u001b[0;34m\u001b[0m\u001b[0;34m\u001b[0m\u001b[0m\n\u001b[0m\u001b[1;32m     14\u001b[0m \u001b[0;34m\u001b[0m\u001b[0m\n\u001b[1;32m     15\u001b[0m     \u001b[0;31m# Draw fingers as rectangles\u001b[0m\u001b[0;34m\u001b[0m\u001b[0;34m\u001b[0m\u001b[0;34m\u001b[0m\u001b[0m\n",
      "\u001b[0;31mNameError\u001b[0m: name 'cv2' is not defined"
     ]
    },
    {
     "data": {
      "image/png": "[encoded data removed]",
      "text/plain": [
       "<Figure size 720x720 with 4 Axes>"
      ]
     },
     "metadata": {
      "needs_background": "light"
     },
     "output_type": "display_data"
    }
   ],
   "source": [
    "import numpy as np\n",
    "import matplotlib.pyplot as plt\n",
    "\n",
    "# Function to create a synthetic high-resolution hand image\n",
    "def create_high_res_hand_image(image_size=(300, 300)):\n",
    "    # Create a blank white image\n",
    "    image = np.ones((image_size[0], image_size[1], 3), dtype=np.uint8) * 255\n",
    "    \n",
    "    # Simulate drawing a hand using simple shapes (you can adjust these)\n",
    "    # Draw a simple rectangle for the palm\n",
    "    palm_start = (100, 150)\n",
    "    palm_end = (200, 250)\n",
    "    cv2.rectangle(image, palm_start, palm_end, (200, 150, 100), -1)  # Brown color for palm\n",
    "    \n",
    "    # Draw fingers as rectangles\n",
    "    for i in range(5):  # Simulate 5 fingers\n",
    "        finger_start = (120 + i * 15, 100)\n",
    "        finger_end = (135 + i * 15, 150)\n",
    "        cv2.rectangle(image, finger_start, finger_end, (200, 100, 100), -1)  # Darker brown for fingers\n",
    "    \n",
    "    return image\n",
    "\n",
    "# Function to generate synthetic keypoints for hands\n",
    "def generate_hand_keypoints():\n",
    "    # Simulated keypoints for the hand (x, y format)\n",
    "    return np.array([\n",
    "        [120, 100],  # Finger 1\n",
    "        [135, 100],  # Finger 2\n",
    "        [150, 100],  # Finger 3\n",
    "        [165, 100],  # Finger 4\n",
    "        [180, 100],  # Finger 5\n",
    "        [150, 150],  # Palm center\n",
    "    ])\n",
    "\n",
    "# Create and visualize synthetic high-resolution hand images and keypoints\n",
    "fig, axs = plt.subplots(2, 2, figsize=(10, 10))\n",
    "\n",
    "for i in range(4):  # Generate 4 high-resolution images\n",
    "    hand_image = create_high_res_hand_image(image_size=(300, 300))\n",
    "    keypoints = generate_hand_keypoints()\n",
    "\n",
    "    ax = axs[i // 2, i % 2]\n",
    "    ax.imshow(hand_image)\n",
    "    ax.scatter(keypoints[:, 0], keypoints[:, 1], color='red', s=10)  # Plot keypoints in red\n",
    "    ax.set_title(f\"Hand Image {i + 1}\")\n",
    "    ax.axis('off')\n",
    "\n",
    "plt.tight_layout()\n",
    "plt.show()\n"
   ]
  },
  {
   "cell_type": "code",
   "execution_count": null,
   "metadata": {},
   "outputs": [],
   "source": []
  }
 ],
 "metadata": {
  "kernelspec": {
   "display_name": "slt4",
   "language": "python",
   "name": "python3"
  },
  "language_info": {
   "codemirror_mode": {
    "name": "ipython",
    "version": 3
   },
   "file_extension": ".py",
   "mimetype": "text/x-python",
   "name": "python",
   "nbconvert_exporter": "python",
   "pygments_lexer": "ipython3",
   "version": "3.6.13"
  }
 },
 "nbformat": 4,
 "nbformat_minor": 2
}
