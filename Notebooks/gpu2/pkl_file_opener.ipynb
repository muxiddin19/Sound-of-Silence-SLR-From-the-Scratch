{
 "cells": [
  {
   "cell_type": "code",
   "execution_count": 1,
   "metadata": {},
   "outputs": [],
   "source": [
    "import pickle\n",
    "def read_pkl(path):\n",
    "    with open(path, 'rb') as f:\n",
    "        data1 = pickle.load(f)\n",
    "    return data1\n",
    "\n",
    "path = '/nas/Chingiz/sing_language/vector/quantized_deltas.pkl'\n",
    "#path = '/nas/Chingiz/sing_language/delta/deltas.pkl'\n",
    "data_vector = read_pkl(path)"
   ]
  },
  {
   "cell_type": "code",
   "execution_count": 3,
   "metadata": {},
   "outputs": [
    {
     "data": {
      "text/plain": [
       "{'keypoints': array([[[ 0,  0,  0],\n",
       "         [ 0,  0,  0],\n",
       "         [ 0,  0,  0],\n",
       "         ...,\n",
       "         [ 0,  0,  0],\n",
       "         [ 0,  0,  0],\n",
       "         [ 0,  0,  0]],\n",
       " \n",
       "        [[-1, -1,  0],\n",
       "         [ 0, -1,  0],\n",
       "         [-1, -1,  0],\n",
       "         ...,\n",
       "         [ 1, -1,  0],\n",
       "         [ 0, -1,  0],\n",
       "         [-1, -1,  0]],\n",
       " \n",
       "        [[-1, -1,  0],\n",
       "         [-1, -1,  0],\n",
       "         [-1, -1,  0],\n",
       "         ...,\n",
       "         [-1, -1,  0],\n",
       "         [-1, -1,  0],\n",
       "         [-1, -1,  0]],\n",
       " \n",
       "        ...,\n",
       " \n",
       "        [[ 0,  1,  0],\n",
       "         [ 0,  0,  0],\n",
       "         [ 0,  0,  0],\n",
       "         ...,\n",
       "         [ 1,  1,  0],\n",
       "         [ 1,  1,  0],\n",
       "         [ 1,  1,  0]],\n",
       " \n",
       "        [[ 0,  0,  0],\n",
       "         [ 0,  0,  0],\n",
       "         [ 0,  0,  0],\n",
       "         ...,\n",
       "         [ 1,  1,  0],\n",
       "         [ 1,  1,  0],\n",
       "         [ 1,  1,  0]],\n",
       " \n",
       "        [[ 0,  0,  0],\n",
       "         [-1,  0,  0],\n",
       "         [ 0,  0,  0],\n",
       "         ...,\n",
       "         [ 1,  1,  0],\n",
       "         [ 1,  0,  0],\n",
       "         [ 1,  0,  0]]])}"
      ]
     },
     "execution_count": 3,
     "metadata": {},
     "output_type": "execute_result"
    }
   ],
   "source": [
    "data_vector"
   ]
  },
  {
   "cell_type": "code",
   "execution_count": 2,
   "metadata": {},
   "outputs": [
    {
     "data": {
      "text/plain": [
       "dict_keys(['keypoints'])"
      ]
     },
     "execution_count": 2,
     "metadata": {},
     "output_type": "execute_result"
    }
   ],
   "source": [
    "data_vector.keys()"
   ]
  },
  {
   "cell_type": "code",
   "execution_count": 3,
   "metadata": {},
   "outputs": [
    {
     "data": {
      "text/plain": [
       "array([[ 0,  0,  0],\n",
       "       [ 0,  0,  0],\n",
       "       [ 0,  0,  0],\n",
       "       [ 0,  0,  0],\n",
       "       [ 0,  0,  0],\n",
       "       [-1,  0,  0],\n",
       "       [-1,  0,  0],\n",
       "       [-1,  0,  0],\n",
       "       [-1,  0,  0],\n",
       "       [-1,  0,  0],\n",
       "       [ 0,  0,  0],\n",
       "       [ 0,  0,  0],\n",
       "       [ 0,  0,  0],\n",
       "       [ 0,  0,  0],\n",
       "       [ 0,  0,  0],\n",
       "       [ 0,  0,  0],\n",
       "       [ 0,  0,  0],\n",
       "       [ 0,  0,  0],\n",
       "       [ 0,  0,  0],\n",
       "       [ 0,  0,  0],\n",
       "       [ 0,  0,  0],\n",
       "       [ 0,  0,  0],\n",
       "       [ 0,  0,  0],\n",
       "       [ 0,  0,  0],\n",
       "       [ 0,  0,  0],\n",
       "       [-1,  0,  0],\n",
       "       [-1,  0,  0],\n",
       "       [-1,  0,  0],\n",
       "       [-1,  0,  0],\n",
       "       [-1,  0,  0]])"
      ]
     },
     "execution_count": 3,
     "metadata": {},
     "output_type": "execute_result"
    }
   ],
   "source": [
    "# example video (first), last frame(176), points from 91 to 110.\n",
    "data_vector[\"keypoints\"][175][40:70]"
   ]
  }
 ],
 "metadata": {
  "kernelspec": {
   "display_name": "kpt_trans",
   "language": "python",
   "name": "python3"
  },
  "language_info": {
   "codemirror_mode": {
    "name": "ipython",
    "version": 3
   },
   "file_extension": ".py",
   "mimetype": "text/x-python",
   "name": "python",
   "nbconvert_exporter": "python",
   "pygments_lexer": "ipython3",
   "version": "3.9.20"
  }
 },
 "nbformat": 4,
 "nbformat_minor": 2
}
