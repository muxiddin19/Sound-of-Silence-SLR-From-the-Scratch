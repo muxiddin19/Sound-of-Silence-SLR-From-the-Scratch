{
 "cells": [
  {
   "cell_type": "code",
   "execution_count": 3,
   "metadata": {},
   "outputs": [],
   "source": [
    "Openpose_Part2index = {\n",
    "    'pose': [('pose', [0,1,2,3,4,5,6,7,14,15,16,17])],\n",
    "    'mouth': [('face', list(range(48, 68)))],\n",
    "    'face_others': [('face', list(range(0,48))+list(range(68,70)))],\n",
    "    'hand': [('hand_0', list(range(21))),('hand_1', list(range(21)))]\n",
    "}\n"
   ]
  },
  {
   "cell_type": "code",
   "execution_count": 18,
   "metadata": {},
   "outputs": [],
   "source": [
    "Hrnet_Part2index = {\n",
    "    'pose': [('keypoints', list(range(11)))],\n",
    "    'hand': [('keypoints', list(range(91, 133)))],\n",
    "    'mouth': [('keypoints', list(range(71,91)))],\n",
    "    'face_others': [('keypoints', list(range(23, 71)))]\n",
    "}\n"
   ]
  },
  {
   "cell_type": "code",
   "execution_count": 23,
   "metadata": {},
   "outputs": [],
   "source": [
    "for k_ in ['mouth','face_others', 'hand']:\n",
    "    Openpose_Part2index[k_+'_half'] = [(d[0], d[1][::2]) for d in Openpose_Part2index[k_]]\n",
    "    Hrnet_Part2index[k_+'_half'] = [(d[0], d[1][::2]) for d in Hrnet_Part2index[k_]]\n",
    "    Openpose_Part2index[k_+'_1_3'] = [(d[0], d[1][::3]) for d in Openpose_Part2index[k_]]\n",
    "    Hrnet_Part2index[k_+'_1_3'] = [(d[0], d[1][::3]) for d in Hrnet_Part2index[k_]]\n",
    "    "
   ]
  },
  {
   "cell_type": "code",
   "execution_count": 4,
   "metadata": {},
   "outputs": [
    {
     "data": {
      "text/plain": [
       "{'pose': [('pose', [0, 1, 2, 3, 4, 5, 6, 7, 14, 15, 16, 17])],\n",
       " 'mouth': [('face',\n",
       "   [48,\n",
       "    49,\n",
       "    50,\n",
       "    51,\n",
       "    52,\n",
       "    53,\n",
       "    54,\n",
       "    55,\n",
       "    56,\n",
       "    57,\n",
       "    58,\n",
       "    59,\n",
       "    60,\n",
       "    61,\n",
       "    62,\n",
       "    63,\n",
       "    64,\n",
       "    65,\n",
       "    66,\n",
       "    67])],\n",
       " 'face_others': [('face',\n",
       "   [0,\n",
       "    1,\n",
       "    2,\n",
       "    3,\n",
       "    4,\n",
       "    5,\n",
       "    6,\n",
       "    7,\n",
       "    8,\n",
       "    9,\n",
       "    10,\n",
       "    11,\n",
       "    12,\n",
       "    13,\n",
       "    14,\n",
       "    15,\n",
       "    16,\n",
       "    17,\n",
       "    18,\n",
       "    19,\n",
       "    20,\n",
       "    21,\n",
       "    22,\n",
       "    23,\n",
       "    24,\n",
       "    25,\n",
       "    26,\n",
       "    27,\n",
       "    28,\n",
       "    29,\n",
       "    30,\n",
       "    31,\n",
       "    32,\n",
       "    33,\n",
       "    34,\n",
       "    35,\n",
       "    36,\n",
       "    37,\n",
       "    38,\n",
       "    39,\n",
       "    40,\n",
       "    41,\n",
       "    42,\n",
       "    43,\n",
       "    44,\n",
       "    45,\n",
       "    46,\n",
       "    47,\n",
       "    68,\n",
       "    69])],\n",
       " 'hand': [('hand_0',\n",
       "   [0, 1, 2, 3, 4, 5, 6, 7, 8, 9, 10, 11, 12, 13, 14, 15, 16, 17, 18, 19, 20]),\n",
       "  ('hand_1',\n",
       "   [0,\n",
       "    1,\n",
       "    2,\n",
       "    3,\n",
       "    4,\n",
       "    5,\n",
       "    6,\n",
       "    7,\n",
       "    8,\n",
       "    9,\n",
       "    10,\n",
       "    11,\n",
       "    12,\n",
       "    13,\n",
       "    14,\n",
       "    15,\n",
       "    16,\n",
       "    17,\n",
       "    18,\n",
       "    19,\n",
       "    20])]}"
      ]
     },
     "execution_count": 4,
     "metadata": {},
     "output_type": "execute_result"
    }
   ],
   "source": [
    "Openpose_Part2index"
   ]
  },
  {
   "cell_type": "code",
   "execution_count": 8,
   "metadata": {},
   "outputs": [
    {
     "data": {
      "text/plain": [
       "dict_keys(['pose', 'mouth', 'face_others', 'hand'])"
      ]
     },
     "execution_count": 8,
     "metadata": {},
     "output_type": "execute_result"
    }
   ],
   "source": [
    "Openpose_Part2index.keys()"
   ]
  },
  {
   "cell_type": "code",
   "execution_count": 24,
   "metadata": {},
   "outputs": [
    {
     "data": {
      "text/plain": [
       "dict_keys(['pose', 'mouth', 'face_others', 'hand', 'mouth_half', 'mouth_1_3', 'face_others_half', 'face_others_1_3', 'hand_half', 'hand_1_3'])"
      ]
     },
     "execution_count": 24,
     "metadata": {},
     "output_type": "execute_result"
    }
   ],
   "source": [
    "Openpose_Part2index.keys()"
   ]
  },
  {
   "cell_type": "code",
   "execution_count": 11,
   "metadata": {},
   "outputs": [
    {
     "data": {
      "text/plain": [
       "[('pose', [0, 1, 2, 3, 4, 5, 6, 7, 14, 15, 16, 17])]"
      ]
     },
     "execution_count": 11,
     "metadata": {},
     "output_type": "execute_result"
    }
   ],
   "source": [
    "Openpose_Part2index['pose']"
   ]
  },
  {
   "cell_type": "code",
   "execution_count": 12,
   "metadata": {},
   "outputs": [
    {
     "data": {
      "text/plain": [
       "[('face',\n",
       "  [48,\n",
       "   49,\n",
       "   50,\n",
       "   51,\n",
       "   52,\n",
       "   53,\n",
       "   54,\n",
       "   55,\n",
       "   56,\n",
       "   57,\n",
       "   58,\n",
       "   59,\n",
       "   60,\n",
       "   61,\n",
       "   62,\n",
       "   63,\n",
       "   64,\n",
       "   65,\n",
       "   66,\n",
       "   67])]"
      ]
     },
     "execution_count": 12,
     "metadata": {},
     "output_type": "execute_result"
    }
   ],
   "source": [
    "Openpose_Part2index['mouth']"
   ]
  },
  {
   "cell_type": "code",
   "execution_count": 26,
   "metadata": {},
   "outputs": [
    {
     "data": {
      "text/plain": [
       "[('face', [48, 50, 52, 54, 56, 58, 60, 62, 64, 66])]"
      ]
     },
     "execution_count": 26,
     "metadata": {},
     "output_type": "execute_result"
    }
   ],
   "source": [
    "Openpose_Part2index['mouth_half']"
   ]
  },
  {
   "cell_type": "code",
   "execution_count": 27,
   "metadata": {},
   "outputs": [
    {
     "data": {
      "text/plain": [
       "[('face', [48, 51, 54, 57, 60, 63, 66])]"
      ]
     },
     "execution_count": 27,
     "metadata": {},
     "output_type": "execute_result"
    }
   ],
   "source": [
    "Openpose_Part2index['mouth_1_3']"
   ]
  },
  {
   "cell_type": "code",
   "execution_count": 15,
   "metadata": {},
   "outputs": [
    {
     "data": {
      "text/plain": [
       "[('face',\n",
       "  [0,\n",
       "   1,\n",
       "   2,\n",
       "   3,\n",
       "   4,\n",
       "   5,\n",
       "   6,\n",
       "   7,\n",
       "   8,\n",
       "   9,\n",
       "   10,\n",
       "   11,\n",
       "   12,\n",
       "   13,\n",
       "   14,\n",
       "   15,\n",
       "   16,\n",
       "   17,\n",
       "   18,\n",
       "   19,\n",
       "   20,\n",
       "   21,\n",
       "   22,\n",
       "   23,\n",
       "   24,\n",
       "   25,\n",
       "   26,\n",
       "   27,\n",
       "   28,\n",
       "   29,\n",
       "   30,\n",
       "   31,\n",
       "   32,\n",
       "   33,\n",
       "   34,\n",
       "   35,\n",
       "   36,\n",
       "   37,\n",
       "   38,\n",
       "   39,\n",
       "   40,\n",
       "   41,\n",
       "   42,\n",
       "   43,\n",
       "   44,\n",
       "   45,\n",
       "   46,\n",
       "   47,\n",
       "   68,\n",
       "   69])]"
      ]
     },
     "execution_count": 15,
     "metadata": {},
     "output_type": "execute_result"
    }
   ],
   "source": [
    "Openpose_Part2index['face_others']"
   ]
  },
  {
   "cell_type": "code",
   "execution_count": 28,
   "metadata": {},
   "outputs": [
    {
     "data": {
      "text/plain": [
       "[('face',\n",
       "  [0,\n",
       "   2,\n",
       "   4,\n",
       "   6,\n",
       "   8,\n",
       "   10,\n",
       "   12,\n",
       "   14,\n",
       "   16,\n",
       "   18,\n",
       "   20,\n",
       "   22,\n",
       "   24,\n",
       "   26,\n",
       "   28,\n",
       "   30,\n",
       "   32,\n",
       "   34,\n",
       "   36,\n",
       "   38,\n",
       "   40,\n",
       "   42,\n",
       "   44,\n",
       "   46,\n",
       "   68])]"
      ]
     },
     "execution_count": 28,
     "metadata": {},
     "output_type": "execute_result"
    }
   ],
   "source": [
    "Openpose_Part2index['face_others_half']"
   ]
  },
  {
   "cell_type": "code",
   "execution_count": 29,
   "metadata": {},
   "outputs": [
    {
     "data": {
      "text/plain": [
       "[('face', [0, 3, 6, 9, 12, 15, 18, 21, 24, 27, 30, 33, 36, 39, 42, 45, 68])]"
      ]
     },
     "execution_count": 29,
     "metadata": {},
     "output_type": "execute_result"
    }
   ],
   "source": [
    "Openpose_Part2index['face_others_1_3']"
   ]
  },
  {
   "cell_type": "code",
   "execution_count": 16,
   "metadata": {},
   "outputs": [
    {
     "data": {
      "text/plain": [
       "[('hand_0',\n",
       "  [0, 1, 2, 3, 4, 5, 6, 7, 8, 9, 10, 11, 12, 13, 14, 15, 16, 17, 18, 19, 20]),\n",
       " ('hand_1',\n",
       "  [0, 1, 2, 3, 4, 5, 6, 7, 8, 9, 10, 11, 12, 13, 14, 15, 16, 17, 18, 19, 20])]"
      ]
     },
     "execution_count": 16,
     "metadata": {},
     "output_type": "execute_result"
    }
   ],
   "source": [
    "Openpose_Part2index['hand']"
   ]
  },
  {
   "cell_type": "code",
   "execution_count": 30,
   "metadata": {},
   "outputs": [
    {
     "data": {
      "text/plain": [
       "[('hand_0', [0, 2, 4, 6, 8, 10, 12, 14, 16, 18, 20]),\n",
       " ('hand_1', [0, 2, 4, 6, 8, 10, 12, 14, 16, 18, 20])]"
      ]
     },
     "execution_count": 30,
     "metadata": {},
     "output_type": "execute_result"
    }
   ],
   "source": [
    "Openpose_Part2index['hand_half']"
   ]
  },
  {
   "cell_type": "code",
   "execution_count": 31,
   "metadata": {},
   "outputs": [
    {
     "data": {
      "text/plain": [
       "[('hand_0', [0, 3, 6, 9, 12, 15, 18]), ('hand_1', [0, 3, 6, 9, 12, 15, 18])]"
      ]
     },
     "execution_count": 31,
     "metadata": {},
     "output_type": "execute_result"
    }
   ],
   "source": [
    "Openpose_Part2index['hand_1_3']"
   ]
  },
  {
   "cell_type": "code",
   "execution_count": 19,
   "metadata": {},
   "outputs": [
    {
     "data": {
      "text/plain": [
       "[('keypoints', [0, 1, 2, 3, 4, 5, 6, 7, 8, 9, 10])]"
      ]
     },
     "execution_count": 19,
     "metadata": {},
     "output_type": "execute_result"
    }
   ],
   "source": [
    "Hrnet_Part2index['pose']"
   ]
  },
  {
   "cell_type": "code",
   "execution_count": 20,
   "metadata": {},
   "outputs": [
    {
     "data": {
      "text/plain": [
       "[('keypoints',\n",
       "  [71,\n",
       "   72,\n",
       "   73,\n",
       "   74,\n",
       "   75,\n",
       "   76,\n",
       "   77,\n",
       "   78,\n",
       "   79,\n",
       "   80,\n",
       "   81,\n",
       "   82,\n",
       "   83,\n",
       "   84,\n",
       "   85,\n",
       "   86,\n",
       "   87,\n",
       "   88,\n",
       "   89,\n",
       "   90])]"
      ]
     },
     "execution_count": 20,
     "metadata": {},
     "output_type": "execute_result"
    }
   ],
   "source": [
    "Hrnet_Part2index['mouth']"
   ]
  },
  {
   "cell_type": "code",
   "execution_count": 32,
   "metadata": {},
   "outputs": [
    {
     "data": {
      "text/plain": [
       "[('keypoints', [71, 73, 75, 77, 79, 81, 83, 85, 87, 89])]"
      ]
     },
     "execution_count": 32,
     "metadata": {},
     "output_type": "execute_result"
    }
   ],
   "source": [
    "Hrnet_Part2index['mouth_half']"
   ]
  },
  {
   "cell_type": "code",
   "execution_count": 33,
   "metadata": {},
   "outputs": [
    {
     "data": {
      "text/plain": [
       "[('keypoints', [71, 74, 77, 80, 83, 86, 89])]"
      ]
     },
     "execution_count": 33,
     "metadata": {},
     "output_type": "execute_result"
    }
   ],
   "source": [
    "Hrnet_Part2index['mouth_1_3']"
   ]
  },
  {
   "cell_type": "code",
   "execution_count": 21,
   "metadata": {},
   "outputs": [
    {
     "data": {
      "text/plain": [
       "[('keypoints',\n",
       "  [23,\n",
       "   24,\n",
       "   25,\n",
       "   26,\n",
       "   27,\n",
       "   28,\n",
       "   29,\n",
       "   30,\n",
       "   31,\n",
       "   32,\n",
       "   33,\n",
       "   34,\n",
       "   35,\n",
       "   36,\n",
       "   37,\n",
       "   38,\n",
       "   39,\n",
       "   40,\n",
       "   41,\n",
       "   42,\n",
       "   43,\n",
       "   44,\n",
       "   45,\n",
       "   46,\n",
       "   47,\n",
       "   48,\n",
       "   49,\n",
       "   50,\n",
       "   51,\n",
       "   52,\n",
       "   53,\n",
       "   54,\n",
       "   55,\n",
       "   56,\n",
       "   57,\n",
       "   58,\n",
       "   59,\n",
       "   60,\n",
       "   61,\n",
       "   62,\n",
       "   63,\n",
       "   64,\n",
       "   65,\n",
       "   66,\n",
       "   67,\n",
       "   68,\n",
       "   69,\n",
       "   70])]"
      ]
     },
     "execution_count": 21,
     "metadata": {},
     "output_type": "execute_result"
    }
   ],
   "source": [
    "Hrnet_Part2index['face_others']"
   ]
  },
  {
   "cell_type": "code",
   "execution_count": 34,
   "metadata": {},
   "outputs": [
    {
     "data": {
      "text/plain": [
       "[('keypoints',\n",
       "  [23,\n",
       "   25,\n",
       "   27,\n",
       "   29,\n",
       "   31,\n",
       "   33,\n",
       "   35,\n",
       "   37,\n",
       "   39,\n",
       "   41,\n",
       "   43,\n",
       "   45,\n",
       "   47,\n",
       "   49,\n",
       "   51,\n",
       "   53,\n",
       "   55,\n",
       "   57,\n",
       "   59,\n",
       "   61,\n",
       "   63,\n",
       "   65,\n",
       "   67,\n",
       "   69])]"
      ]
     },
     "execution_count": 34,
     "metadata": {},
     "output_type": "execute_result"
    }
   ],
   "source": [
    "Hrnet_Part2index['face_others_half']"
   ]
  },
  {
   "cell_type": "code",
   "execution_count": 35,
   "metadata": {},
   "outputs": [
    {
     "data": {
      "text/plain": [
       "[('keypoints',\n",
       "  [23, 26, 29, 32, 35, 38, 41, 44, 47, 50, 53, 56, 59, 62, 65, 68])]"
      ]
     },
     "execution_count": 35,
     "metadata": {},
     "output_type": "execute_result"
    }
   ],
   "source": [
    "Hrnet_Part2index['face_others_1_3']"
   ]
  },
  {
   "cell_type": "code",
   "execution_count": 22,
   "metadata": {},
   "outputs": [
    {
     "data": {
      "text/plain": [
       "[('keypoints',\n",
       "  [91,\n",
       "   92,\n",
       "   93,\n",
       "   94,\n",
       "   95,\n",
       "   96,\n",
       "   97,\n",
       "   98,\n",
       "   99,\n",
       "   100,\n",
       "   101,\n",
       "   102,\n",
       "   103,\n",
       "   104,\n",
       "   105,\n",
       "   106,\n",
       "   107,\n",
       "   108,\n",
       "   109,\n",
       "   110,\n",
       "   111,\n",
       "   112,\n",
       "   113,\n",
       "   114,\n",
       "   115,\n",
       "   116,\n",
       "   117,\n",
       "   118,\n",
       "   119,\n",
       "   120,\n",
       "   121,\n",
       "   122,\n",
       "   123,\n",
       "   124,\n",
       "   125,\n",
       "   126,\n",
       "   127,\n",
       "   128,\n",
       "   129,\n",
       "   130,\n",
       "   131,\n",
       "   132])]"
      ]
     },
     "execution_count": 22,
     "metadata": {},
     "output_type": "execute_result"
    }
   ],
   "source": [
    "Hrnet_Part2index['hand']"
   ]
  },
  {
   "cell_type": "code",
   "execution_count": 36,
   "metadata": {},
   "outputs": [
    {
     "data": {
      "text/plain": [
       "[('keypoints',\n",
       "  [91,\n",
       "   93,\n",
       "   95,\n",
       "   97,\n",
       "   99,\n",
       "   101,\n",
       "   103,\n",
       "   105,\n",
       "   107,\n",
       "   109,\n",
       "   111,\n",
       "   113,\n",
       "   115,\n",
       "   117,\n",
       "   119,\n",
       "   121,\n",
       "   123,\n",
       "   125,\n",
       "   127,\n",
       "   129,\n",
       "   131])]"
      ]
     },
     "execution_count": 36,
     "metadata": {},
     "output_type": "execute_result"
    }
   ],
   "source": [
    "Hrnet_Part2index['hand_half']"
   ]
  },
  {
   "cell_type": "code",
   "execution_count": 37,
   "metadata": {},
   "outputs": [
    {
     "data": {
      "text/plain": [
       "[('keypoints',\n",
       "  [91, 94, 97, 100, 103, 106, 109, 112, 115, 118, 121, 124, 127, 130])]"
      ]
     },
     "execution_count": 37,
     "metadata": {},
     "output_type": "execute_result"
    }
   ],
   "source": [
    "Hrnet_Part2index['hand_1_3']"
   ]
  },
  {
   "cell_type": "code",
   "execution_count": 4,
   "metadata": {},
   "outputs": [
    {
     "name": "stdout",
     "output_type": "stream",
     "text": [
      "Requirement already satisfied: torch in /home/muhiddin/miniconda3/envs/slt2/lib/python3.6/site-packages (1.10.2)\n",
      "Requirement already satisfied: torchvision in /home/muhiddin/miniconda3/envs/slt2/lib/python3.6/site-packages (0.11.3)\n",
      "Requirement already satisfied: typing_extensions in /home/muhiddin/miniconda3/envs/slt2/lib/python3.6/site-packages (from torch) (4.1.1)\n",
      "Requirement already satisfied: dataclasses in /home/muhiddin/miniconda3/envs/slt2/lib/python3.6/site-packages (from torch) (0.8)\n",
      "Requirement already satisfied: numpy in /home/muhiddin/miniconda3/envs/slt2/lib/python3.6/site-packages (from torchvision) (1.19.2)\n",
      "Requirement already satisfied: pillow!=8.3.0,>=5.3.0 in /home/muhiddin/miniconda3/envs/slt2/lib/python3.6/site-packages (from torchvision) (8.1.0)\n",
      "Note: you may need to restart the kernel to use updated packages.\n"
     ]
    }
   ],
   "source": [
    "%pip install --upgrade torch torchvision\n"
   ]
  },
  {
   "cell_type": "code",
   "execution_count": 1,
   "metadata": {},
   "outputs": [
    {
     "name": "stdout",
     "output_type": "stream",
     "text": [
      "Collecting timm\n",
      "  Downloading timm-0.6.12-py3-none-any.whl (549 kB)\n",
      "\u001b[K     |████████████████████████████████| 549 kB 13.0 MB/s eta 0:00:01\n",
      "\u001b[?25hRequirement already satisfied: huggingface-hub in /home/muhiddin/miniconda3/envs/slt2/lib/python3.6/site-packages (from timm) (0.4.0)\n",
      "Requirement already satisfied: torchvision in /home/muhiddin/miniconda3/envs/slt2/lib/python3.6/site-packages (from timm) (0.11.3)\n",
      "Requirement already satisfied: torch>=1.7 in /home/muhiddin/miniconda3/envs/slt2/lib/python3.6/site-packages (from timm) (1.10.2)\n",
      "Requirement already satisfied: pyyaml in /home/muhiddin/miniconda3/envs/slt2/lib/python3.6/site-packages (from timm) (5.4.1)\n",
      "Requirement already satisfied: typing_extensions in /home/muhiddin/miniconda3/envs/slt2/lib/python3.6/site-packages (from torch>=1.7->timm) (4.1.1)\n",
      "Requirement already satisfied: dataclasses in /home/muhiddin/miniconda3/envs/slt2/lib/python3.6/site-packages (from torch>=1.7->timm) (0.8)\n",
      "Requirement already satisfied: packaging>=20.9 in /home/muhiddin/miniconda3/envs/slt2/lib/python3.6/site-packages (from huggingface-hub->timm) (21.3)\n",
      "Requirement already satisfied: tqdm in /home/muhiddin/miniconda3/envs/slt2/lib/python3.6/site-packages (from huggingface-hub->timm) (4.64.1)\n",
      "Requirement already satisfied: requests in /home/muhiddin/miniconda3/envs/slt2/lib/python3.6/site-packages (from huggingface-hub->timm) (2.27.1)\n",
      "Requirement already satisfied: importlib-metadata in /home/muhiddin/miniconda3/envs/slt2/lib/python3.6/site-packages (from huggingface-hub->timm) (4.8.1)\n",
      "Requirement already satisfied: filelock in /home/muhiddin/miniconda3/envs/slt2/lib/python3.6/site-packages (from huggingface-hub->timm) (3.4.1)\n",
      "Requirement already satisfied: pyparsing!=3.0.5,>=2.0.2 in /home/muhiddin/miniconda3/envs/slt2/lib/python3.6/site-packages (from packaging>=20.9->huggingface-hub->timm) (3.1.2)\n",
      "Requirement already satisfied: zipp>=0.5 in /home/muhiddin/miniconda3/envs/slt2/lib/python3.6/site-packages (from importlib-metadata->huggingface-hub->timm) (3.6.0)\n",
      "Requirement already satisfied: idna<4,>=2.5 in /home/muhiddin/miniconda3/envs/slt2/lib/python3.6/site-packages (from requests->huggingface-hub->timm) (3.7)\n",
      "Requirement already satisfied: urllib3<1.27,>=1.21.1 in /home/muhiddin/miniconda3/envs/slt2/lib/python3.6/site-packages (from requests->huggingface-hub->timm) (1.26.19)\n",
      "Requirement already satisfied: charset-normalizer~=2.0.0 in /home/muhiddin/miniconda3/envs/slt2/lib/python3.6/site-packages (from requests->huggingface-hub->timm) (2.0.12)\n",
      "Requirement already satisfied: certifi>=2017.4.17 in /home/muhiddin/miniconda3/envs/slt2/lib/python3.6/site-packages (from requests->huggingface-hub->timm) (2021.5.30)\n",
      "Requirement already satisfied: numpy in /home/muhiddin/miniconda3/envs/slt2/lib/python3.6/site-packages (from torchvision->timm) (1.19.2)\n",
      "Requirement already satisfied: pillow!=8.3.0,>=5.3.0 in /home/muhiddin/miniconda3/envs/slt2/lib/python3.6/site-packages (from torchvision->timm) (8.1.0)\n",
      "Requirement already satisfied: importlib-resources in /home/muhiddin/miniconda3/envs/slt2/lib/python3.6/site-packages (from tqdm->huggingface-hub->timm) (5.4.0)\n",
      "Installing collected packages: timm\n",
      "Successfully installed timm-0.6.12\n",
      "Note: you may need to restart the kernel to use updated packages.\n"
     ]
    }
   ],
   "source": [
    "%pip install timm\n",
    "\n"
   ]
  },
  {
   "cell_type": "code",
   "execution_count": 6,
   "metadata": {},
   "outputs": [
    {
     "ename": "AttributeError",
     "evalue": "module 'torchvision.models' has no attribute 'vision_transformer_vit_b_16'",
     "output_type": "error",
     "traceback": [
      "\u001b[0;31m---------------------------------------------------------------------------\u001b[0m",
      "\u001b[0;31mAttributeError\u001b[0m                            Traceback (most recent call last)",
      "Cell \u001b[0;32mIn[6], line 4\u001b[0m\n\u001b[1;32m      1\u001b[0m \u001b[38;5;28;01mfrom\u001b[39;00m \u001b[38;5;21;01mtorchvision\u001b[39;00m \u001b[38;5;28;01mimport\u001b[39;00m models\n\u001b[1;32m      3\u001b[0m \u001b[38;5;66;03m# Load the Vision Transformer (ViT) base model\u001b[39;00m\n\u001b[0;32m----> 4\u001b[0m vit_model \u001b[38;5;241m=\u001b[39m \u001b[43mmodels\u001b[49m\u001b[38;5;241;43m.\u001b[39;49m\u001b[43mvision_transformer_vit_b_16\u001b[49m(pretrained\u001b[38;5;241m=\u001b[39m\u001b[38;5;28;01mTrue\u001b[39;00m)\n",
      "\u001b[0;31mAttributeError\u001b[0m: module 'torchvision.models' has no attribute 'vision_transformer_vit_b_16'"
     ]
    }
   ],
   "source": [
    "from torchvision import models\n",
    "\n",
    "# Load the Vision Transformer (ViT) base model\n",
    "vit_model = models.vision_transformer_vit_b_16(pretrained=True)\n"
   ]
  },
  {
   "cell_type": "code",
   "execution_count": 7,
   "metadata": {},
   "outputs": [],
   "source": [
    "from torchvision.models import vit_b_16  # Vision Transformer base model\n",
    "\n",
    "class VideoTransformer:\n",
    "    def __init__(self):\n",
    "        self.model = vit_b_16(pretrained=True)  # Pre-trained ViT model\n",
    "\n",
    "    def forward(self, video_frames):\n",
    "        \"\"\"\n",
    "        :param video_frames: Tensor of shape [Batch, Channels, Height, Width]\n",
    "        :return: Extracted features\n",
    "        \"\"\"\n",
    "        return self.model(video_frames)\n"
   ]
  },
  {
   "cell_type": "code",
   "execution_count": 3,
   "metadata": {},
   "outputs": [
    {
     "name": "stdout",
     "output_type": "stream",
     "text": [
      "2.5.1+cu118\n",
      "0.20.1+cu118\n"
     ]
    }
   ],
   "source": [
    "import torch\n",
    "import torchvision\n",
    "print(torch.__version__)\n",
    "print(torchvision.__version__)\n"
   ]
  },
  {
   "cell_type": "code",
   "execution_count": 1,
   "metadata": {},
   "outputs": [
    {
     "name": "stdout",
     "output_type": "stream",
     "text": [
      "2.5.1+cu118\n",
      "0.20.1+cu118\n"
     ]
    }
   ],
   "source": [
    "import torch\n",
    "import torchvision\n",
    "\n",
    "print(torch.__version__)   # Should print the PyTorch version\n",
    "print(torchvision.__version__)  # Should print the torchvision version\n"
   ]
  },
  {
   "cell_type": "code",
   "execution_count": 2,
   "metadata": {},
   "outputs": [
    {
     "name": "stdout",
     "output_type": "stream",
     "text": [
      "True\n"
     ]
    }
   ],
   "source": [
    "import torch\n",
    "print(torch.cuda.is_available())  # Should return True if CUDA is available\n"
   ]
  },
  {
   "cell_type": "code",
   "execution_count": null,
   "metadata": {},
   "outputs": [],
   "source": []
  }
 ],
 "metadata": {
  "kernelspec": {
   "display_name": "kpt_trans",
   "language": "python",
   "name": "python3"
  },
  "language_info": {
   "codemirror_mode": {
    "name": "ipython",
    "version": 3
   },
   "file_extension": ".py",
   "mimetype": "text/x-python",
   "name": "python",
   "nbconvert_exporter": "python",
   "pygments_lexer": "ipython3",
   "version": "3.9.20"
  }
 },
 "nbformat": 4,
 "nbformat_minor": 2
}
