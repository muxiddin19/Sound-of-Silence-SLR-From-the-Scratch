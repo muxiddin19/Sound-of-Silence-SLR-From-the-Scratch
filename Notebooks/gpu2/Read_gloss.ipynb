{
 "cells": [
  {
   "cell_type": "code",
   "execution_count": 7,
   "metadata": {},
   "outputs": [
    {
     "name": "stdout",
     "output_type": "stream",
     "text": [
      "First few bytes: 1f8b0808de8c726202ff70686f656e6978323031342e747261696e00b49d77601cc5f5c7415d229d541288e8556075897eb256d259a73b71c532a218630c068c6dad6d7aefbdf7de42ef9dd02140420a3584f4de7b233df9cdcc7766deecde483babdff0874fa7d3f9e4f978e6cdebeff8dabda6d6dae298a9b5b75850b7d65a6b2d5f74c892a99a057bb1a7fbaf59b66c2864dfb775b4cf39bca367cecac3b75b1d2e3a70f97673da332bc303972dec98d33e676179e99a70d57e8b8e58b874c99ad54b16eeb764\n"
     ]
    }
   ],
   "source": [
    "with open('data/phoenix-2014/phoenix-2014.train', 'rb') as f:\n",
    "    binary_content = f.read()\n",
    "    # Print first few bytes to help identify the file format\n",
    "    print(\"First few bytes:\", binary_content[:200].hex())\n",
    "    "
   ]
  },
  {
   "cell_type": "code",
   "execution_count": null,
   "metadata": {},
   "outputs": [],
   "source": []
  }
 ],
 "metadata": {
  "kernelspec": {
   "display_name": "slt",
   "language": "python",
   "name": "python3"
  },
  "language_info": {
   "codemirror_mode": {
    "name": "ipython",
    "version": 3
   },
   "file_extension": ".py",
   "mimetype": "text/x-python",
   "name": "python",
   "nbconvert_exporter": "python",
   "pygments_lexer": "ipython3",
   "version": "3.6.13"
  }
 },
 "nbformat": 4,
 "nbformat_minor": 2
}
